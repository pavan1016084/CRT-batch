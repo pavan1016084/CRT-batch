{
 "cells": [
  {
   "cell_type": "code",
   "execution_count": 7,
   "metadata": {},
   "outputs": [],
   "source": [
    "list=[\"123\",\"abc\"]"
   ]
  },
  {
   "cell_type": "code",
   "execution_count": 8,
   "metadata": {},
   "outputs": [],
   "source": [
    "list+=[\"def\"]"
   ]
  },
  {
   "cell_type": "code",
   "execution_count": 9,
   "metadata": {},
   "outputs": [
    {
     "name": "stdout",
     "output_type": "stream",
     "text": [
      "['123', 'abc', 'def']\n"
     ]
    }
   ],
   "source": [
    "print(list)"
   ]
  },
  {
   "cell_type": "code",
   "execution_count": 10,
   "metadata": {},
   "outputs": [],
   "source": [
    "tuple=(\"456\",\"ghj\")"
   ]
  },
  {
   "cell_type": "code",
   "execution_count": 16,
   "metadata": {},
   "outputs": [],
   "source": [
    "tuple1=(\"999\",\"1\")\n"
   ]
  },
  {
   "cell_type": "code",
   "execution_count": 17,
   "metadata": {},
   "outputs": [],
   "source": [
    "tuple+=tuple1"
   ]
  },
  {
   "cell_type": "code",
   "execution_count": 18,
   "metadata": {},
   "outputs": [
    {
     "name": "stdout",
     "output_type": "stream",
     "text": [
      "('456', 'ghj', '999', '1')\n"
     ]
    }
   ],
   "source": [
    "print(tuple)"
   ]
  },
  {
   "cell_type": "code",
   "execution_count": 20,
   "metadata": {},
   "outputs": [
    {
     "name": "stdout",
     "output_type": "stream",
     "text": [
      "enter the first number12\n",
      "enter the second number12\n",
      "the sum is 24\n"
     ]
    }
   ],
   "source": [
    "a=int(input(\"enter the first number\"))\n",
    "b=int(input(\"enter the second number\"))\n",
    "c=a+b\n",
    "print(\"the sum is\",c)      \n",
    "      "
   ]
  },
  {
   "cell_type": "code",
   "execution_count": 22,
   "metadata": {},
   "outputs": [
    {
     "data": {
      "text/plain": [
       "50625"
      ]
     },
     "execution_count": 22,
     "metadata": {},
     "output_type": "execute_result"
    }
   ],
   "source": [
    "pow(225,2)\n",
    " "
   ]
  },
  {
   "cell_type": "code",
   "execution_count": 23,
   "metadata": {},
   "outputs": [
    {
     "data": {
      "text/plain": [
       "12"
      ]
     },
     "execution_count": 23,
     "metadata": {},
     "output_type": "execute_result"
    }
   ],
   "source": [
    "25//2\n"
   ]
  },
  {
   "cell_type": "code",
   "execution_count": 26,
   "metadata": {},
   "outputs": [
    {
     "name": "stdout",
     "output_type": "stream",
     "text": [
      "gitamgitamgitam\n"
     ]
    }
   ],
   "source": [
    "d=\"gitam\"\n",
    "print(d*3)"
   ]
  },
  {
   "cell_type": "code",
   "execution_count": 27,
   "metadata": {},
   "outputs": [
    {
     "name": "stdout",
     "output_type": "stream",
     "text": [
      "it\n"
     ]
    }
   ],
   "source": [
    "print(d[1:3])"
   ]
  },
  {
   "cell_type": "code",
   "execution_count": 51,
   "metadata": {},
   "outputs": [
    {
     "name": "stdout",
     "output_type": "stream",
     "text": [
      "enter the number-2345\n",
      "it is negative\n"
     ]
    }
   ],
   "source": [
    "a=int(input(\"enter the number\"))\n",
    "if(a>0):\n",
    "    print(\"it is postive\")\n",
    "if(a<0):\n",
    "    print(\"it is negative\")\n",
    "if(a==0):\n",
    "    print(\"it is zero\")"
   ]
  },
  {
   "cell_type": "code",
   "execution_count": 55,
   "metadata": {},
   "outputs": [
    {
     "name": "stdout",
     "output_type": "stream",
     "text": [
      "enter the number21\n",
      "it is odd\n"
     ]
    }
   ],
   "source": [
    "n=int(input(\"enter the number\"))\n",
    "if(n%2==0):\n",
    "      print(\"it is even\")\n",
    "else:\n",
    "      print(\"it is odd\")\n"
   ]
  },
  {
   "cell_type": "code",
   "execution_count": 66,
   "metadata": {},
   "outputs": [
    {
     "name": "stdout",
     "output_type": "stream",
     "text": [
      "enter the year2012\n",
      "it is leap year\n"
     ]
    }
   ],
   "source": [
    "n=int(input(\"enter the year\"))\n",
    "if((n%100!=0 and n%4==0)or n%400==0):\n",
    "    print(\"it is leap year\")\n",
    "else:\n",
    "    print(\"it is not leap year\")\n",
    "            \n",
    "    "
   ]
  },
  {
   "cell_type": "code",
   "execution_count": 69,
   "metadata": {},
   "outputs": [
    {
     "name": "stdout",
     "output_type": "stream",
     "text": [
      "200 is big\n"
     ]
    }
   ],
   "source": [
    "a,b,c=10,100,200\n",
    "if(a>b and a>c):\n",
    "    print(a,\"is big\")\n",
    "elif(b>c):\n",
    "    print(b,\"is big\")\n",
    "else:\n",
    "    print(c,\"is big\")\n"
   ]
  },
  {
   "cell_type": "code",
   "execution_count": 70,
   "metadata": {},
   "outputs": [
    {
     "name": "stdout",
     "output_type": "stream",
     "text": [
      "10 24 before swapping\n",
      "24 10 after swapping\n"
     ]
    }
   ],
   "source": [
    "a=10\n",
    "b=24\n",
    "print(a,b,\"before swapping\")\n",
    "a,b=b,a\n",
    "print(a,b,\"after swapping\")"
   ]
  },
  {
   "cell_type": "code",
   "execution_count": 3,
   "metadata": {},
   "outputs": [
    {
     "name": "stdout",
     "output_type": "stream",
     "text": [
      "enter a number12\n",
      "enter b number12\n",
      "enter choice:\n",
      "1.add\n",
      " 2.subtract\n",
      " 3.multiply\n",
      " 4.division\n",
      "\n",
      "3\n",
      "answer= 144\n"
     ]
    }
   ],
   "source": [
    "a=int(input(\"enter a number\"))\n",
    "b=int(input(\"enter b number\"))\n",
    "print(\"enter choice:\\n1.add\\n 2.subtract\\n 3.multiply\\n 4.division\\n\")\n",
    "ch=int(input())\n",
    "if(ch==1):\n",
    "    print(\"answer=\",a+b)\n",
    "elif(ch==2):\n",
    "    print(\"answer=\",a-b)\n",
    "elif(ch==3):\n",
    "    print(\"answer=\",a*b)\n",
    "elif(ch==4):\n",
    "    print(\"answer=\",a/b)\n",
    "else:\n",
    "    print(\"not choosen correct option\")"
   ]
  },
  {
   "cell_type": "code",
   "execution_count": null,
   "metadata": {},
   "outputs": [],
   "source": [
    "a=int(input(\"enter a letter\"))\n",
    "if(a=='a'or a=='e' or a=='i' or a=='o' or a=='u'):\n",
    "    print(\"it is vowel\")"
   ]
  },
  {
   "cell_type": "code",
   "execution_count": null,
   "metadata": {},
   "outputs": [],
   "source": []
  }
 ],
 "metadata": {
  "kernelspec": {
   "display_name": "Python 3",
   "language": "python",
   "name": "python3"
  },
  "language_info": {
   "codemirror_mode": {
    "name": "ipython",
    "version": 3
   },
   "file_extension": ".py",
   "mimetype": "text/x-python",
   "name": "python",
   "nbconvert_exporter": "python",
   "pygments_lexer": "ipython3",
   "version": "3.7.3"
  }
 },
 "nbformat": 4,
 "nbformat_minor": 2
}
