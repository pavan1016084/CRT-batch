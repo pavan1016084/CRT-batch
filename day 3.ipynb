{
 "cells": [
  {
   "cell_type": "code",
   "execution_count": 1,
   "metadata": {},
   "outputs": [
    {
     "name": "stdout",
     "output_type": "stream",
     "text": [
      "enter the range5\n",
      "12345"
     ]
    }
   ],
   "source": [
    "n=int(input(\"enter the range\"))\n",
    "for i in range(1,n+1):\n",
    "    print(i,end=\"\")"
   ]
  },
  {
   "cell_type": "code",
   "execution_count": 9,
   "metadata": {},
   "outputs": [
    {
     "name": "stdout",
     "output_type": "stream",
     "text": [
      "0 1 2 3 4 5 \n",
      "1 2 3 4 5 \n",
      "1 3 5 7 9 "
     ]
    }
   ],
   "source": [
    "for i in range(6):\n",
    "    print(i,end=\" \")\n",
    "print()\n",
    "for i in range(1,6):\n",
    "    print(i,end=\" \")\n",
    "print()\n",
    "for i in range(1,10,2):\n",
    "    print(i,end=\" \")\n"
   ]
  },
  {
   "cell_type": "code",
   "execution_count": 17,
   "metadata": {},
   "outputs": [
    {
     "name": "stdout",
     "output_type": "stream",
     "text": [
      "enter the number10\n",
      "55\n"
     ]
    }
   ],
   "source": [
    "x=int(input(\"enter the number\"))\n",
    "sum=0\n",
    "for i in range(1,x+1):\n",
    "    sum=sum+i\n",
    "print(sum)\n",
    "      "
   ]
  },
  {
   "cell_type": "code",
   "execution_count": 18,
   "metadata": {},
   "outputs": [
    {
     "name": "stdout",
     "output_type": "stream",
     "text": [
      "g i t a m h y d \n",
      "g i t a m h y d "
     ]
    }
   ],
   "source": [
    "str1=\"gitamhyd\"\n",
    "for i in range(len(str1)):\n",
    "    print(str1[i],end=\" \")\n",
    "print()\n",
    "for i in str1:\n",
    "    print(i,end=\" \")"
   ]
  },
  {
   "cell_type": "code",
   "execution_count": 24,
   "metadata": {},
   "outputs": [
    {
     "name": "stdout",
     "output_type": "stream",
     "text": [
      " 5\n",
      "0 1 2 3 4 5 "
     ]
    }
   ],
   "source": [
    "n=int(input(\" \"))\n",
    "i=0\n",
    "while(i<=n):\n",
    "    print(i,end=\" \")\n",
    "    i=i+1\n"
   ]
  },
  {
   "cell_type": "code",
   "execution_count": 25,
   "metadata": {},
   "outputs": [
    {
     "name": "stdout",
     "output_type": "stream",
     "text": [
      " 123\n",
      "3 2 1 "
     ]
    }
   ],
   "source": [
    "n=int(input(\" \"))\n",
    "while(n!=0):\n",
    "    r=n%10\n",
    "    print(r,end=\" \")\n",
    "    n=n//10"
   ]
  },
  {
   "cell_type": "code",
   "execution_count": 27,
   "metadata": {},
   "outputs": [
    {
     "name": "stdout",
     "output_type": "stream",
     "text": [
      " 10\n",
      "1\n"
     ]
    }
   ],
   "source": [
    "n=int(input(\" \"))\n",
    "sum=0\n",
    "while(n!=0):\n",
    "    r=n%10\n",
    "    sum=sum+r\n",
    "    n=n//10\n",
    "print(sum)"
   ]
  },
  {
   "cell_type": "code",
   "execution_count": 28,
   "metadata": {},
   "outputs": [
    {
     "name": "stdout",
     "output_type": "stream",
     "text": [
      "121\n",
      "it is palindrome\n"
     ]
    }
   ],
   "source": [
    "n=int(input(\"\"))\n",
    "rev=0\n",
    "num=n\n",
    "while(n!=0):\n",
    "    r=n%10\n",
    "    rev=rev*10+r\n",
    "    n=n//10\n",
    "if(rev==num):\n",
    "    print(\"it is palindrome\")\n",
    "else:\n",
    "    print(\"it is not palindrome\")"
   ]
  },
  {
   "cell_type": "code",
   "execution_count": 29,
   "metadata": {},
   "outputs": [
    {
     "name": "stdout",
     "output_type": "stream",
     "text": [
      "74492\n",
      "9\n"
     ]
    }
   ],
   "source": [
    "n=int(input(\"\"))\n",
    "max=0\n",
    "while(n!=0):\n",
    "    r=n%10\n",
    "    if(r>max):\n",
    "        max=r\n",
    "    n=n//10\n",
    "print(max)"
   ]
  },
  {
   "cell_type": "code",
   "execution_count": 34,
   "metadata": {},
   "outputs": [
    {
     "name": "stdout",
     "output_type": "stream",
     "text": [
      " 5\n",
      "120\n"
     ]
    }
   ],
   "source": [
    "n=int(input(\" \"))\n",
    "fac=1\n",
    "i=1\n",
    "while(i<=n):\n",
    "    fac=fac*i\n",
    "    i=i+1\n",
    "print(fac)\n",
    "   "
   ]
  },
  {
   "cell_type": "code",
   "execution_count": 36,
   "metadata": {},
   "outputs": [
    {
     "name": "stdout",
     "output_type": "stream",
     "text": [
      "204\n"
     ]
    }
   ],
   "source": [
    "def add(a,b):\n",
    "    return a+b\n",
    "print(add(101,103))"
   ]
  },
  {
   "cell_type": "code",
   "execution_count": 37,
   "metadata": {},
   "outputs": [
    {
     "name": "stdout",
     "output_type": "stream",
     "text": [
      "enter a number12\n",
      "enter b number12\n",
      "24\n"
     ]
    }
   ],
   "source": [
    "def add(a,b):\n",
    "    c=a+b\n",
    "    return c\n",
    "a=int(input(\"enter a number\"))\n",
    "b=int(input(\"enter b number\"))\n",
    "print(add(a,b))"
   ]
  },
  {
   "cell_type": "code",
   "execution_count": 65,
   "metadata": {},
   "outputs": [
    {
     "name": "stdout",
     "output_type": "stream",
     "text": [
      " 10\n",
      "0\n"
     ]
    }
   ],
   "source": [
    "def sumofevendigit(n):\n",
    "    sum=0\n",
    "    while(n!=0):\n",
    "        r=n%10\n",
    "        if(r%2==0):\n",
    "            sum=sum+r\n",
    "        n=n//10\n",
    "    return sum\n",
    "n=int(input(\" \"))\n",
    "print(sumofevendigit(n))\n"
   ]
  },
  {
   "cell_type": "code",
   "execution_count": 74,
   "metadata": {},
   "outputs": [
    {
     "name": "stdout",
     "output_type": "stream",
     "text": [
      " 20\n",
      "1 2 4 5 10 20 "
     ]
    }
   ],
   "source": [
    "def factors(n):\n",
    "    for i in range(1,n+1):\n",
    "        if(n%i==0):\n",
    "            print(i,end=\" \")\n",
    "    return\n",
    "n=int(input(\" \"))\n",
    "factors(n)"
   ]
  },
  {
   "cell_type": "code",
   "execution_count": 75,
   "metadata": {},
   "outputs": [
    {
     "name": "stdout",
     "output_type": "stream",
     "text": [
      "[1, 6, 7, 8, 3]\n"
     ]
    }
   ],
   "source": [
    "def numlist(n):\n",
    "    a=[]\n",
    "    while(n!=0):\n",
    "        r=n%10\n",
    "        a.append(r)\n",
    "        n=n//10\n",
    "    a.reverse()\n",
    "    return a\n",
    "print(numlist(16783))"
   ]
  },
  {
   "cell_type": "code",
   "execution_count": null,
   "metadata": {},
   "outputs": [],
   "source": []
  }
 ],
 "metadata": {
  "kernelspec": {
   "display_name": "Python 3",
   "language": "python",
   "name": "python3"
  },
  "language_info": {
   "codemirror_mode": {
    "name": "ipython",
    "version": 3
   },
   "file_extension": ".py",
   "mimetype": "text/x-python",
   "name": "python",
   "nbconvert_exporter": "python",
   "pygments_lexer": "ipython3",
   "version": "3.7.3"
  }
 },
 "nbformat": 4,
 "nbformat_minor": 2
}
